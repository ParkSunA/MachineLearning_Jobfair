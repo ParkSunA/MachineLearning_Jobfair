{
 "cells": [
  {
   "cell_type": "code",
   "execution_count": 1,
   "metadata": {},
   "outputs": [],
   "source": [
    "import pandas as pd\n",
    "import numpy as np\n",
    "import matplotlib.pyplot as plt\n",
    "from sklearn.preprocessing import OneHotEncoder\n",
    "from sklearn import tree\n",
    "from sklearn.decomposition import PCA\n",
    "import matplotlib.pyplot as plt\n",
    "import matplotlib"
   ]
  },
  {
   "cell_type": "code",
   "execution_count": 2,
   "metadata": {},
   "outputs": [],
   "source": [
    "train = pd.read_csv('data/train.csv',encoding = 'utf-8')\n",
    "job_tag = pd.read_csv('data/job_tags.csv',encoding = 'utf-8')\n",
    "job_company = pd.read_csv('data/job_companies.csv',encoding = 'utf-8')\n",
    "tag = pd.read_csv('data/tags.csv',encoding = 'utf-8')\n",
    "user_tag = pd.read_csv('data/user_tags.csv',encoding = 'utf-8')\n",
    "test = pd.read_csv('data/test_job.csv')"
   ]
  },
  {
   "cell_type": "code",
   "execution_count": 3,
   "metadata": {},
   "outputs": [],
   "source": [
    "# 중복된 행이 많아서 중복 제거\n",
    "user_tag_nondeg = user_tag.drop_duplicates(['userID','tagID'])"
   ]
  },
  {
   "cell_type": "code",
   "execution_count": 4,
   "metadata": {},
   "outputs": [
    {
     "data": {
      "text/plain": [
       "OneHotEncoder(categorical_features=None, categories=None,\n",
       "       dtype=<class 'numpy.float64'>, handle_unknown='error',\n",
       "       n_values=None, sparse=True)"
      ]
     },
     "execution_count": 4,
     "metadata": {},
     "output_type": "execute_result"
    }
   ],
   "source": [
    "# 사용된 tagID onehot\n",
    "usertag = list(set(user_tag['tagID']))\n",
    "jobtag = list(set(job_tag['tagID']))\n",
    "total = list(set(usertag + jobtag))\n",
    "\n",
    "onehot = OneHotEncoder()\n",
    "onehot.fit(np.array(total).reshape(-1,1))"
   ]
  },
  {
   "cell_type": "code",
   "execution_count": 5,
   "metadata": {},
   "outputs": [],
   "source": [
    "# tagID 이용해 userID 벡터화\n",
    "\n",
    "tagID_onehot = onehot.transform(np.array(user_tag_nondeg['tagID']).reshape(-1,1)).toarray()\n",
    "\n",
    "user2tag = {k:[np.zeros(419)] for k in set(user_tag['userID'])}\n",
    "for i in range(len(user_tag_nondeg)):\n",
    "    user2tag[user_tag_nondeg['userID'].iloc[i]]+=tagID_onehot[i]"
   ]
  },
  {
   "cell_type": "code",
   "execution_count": 6,
   "metadata": {},
   "outputs": [],
   "source": [
    "# jobID를 벡터화 (tagID, companyID, companySize)\n",
    "job2tagID_onehot = onehot.transform(np.array(job_tag['tagID']).reshape(-1,1)).toarray()\n",
    "\n",
    "job2tag = {k:[np.zeros(419)] for k in set(job_tag['jobID'])}\n",
    "for i in range(len(job_tag)):\n",
    "    job2tag[job_tag['jobID'].iloc[i]]+= job2tagID_onehot[i]"
   ]
  },
  {
   "cell_type": "code",
   "execution_count": 7,
   "metadata": {},
   "outputs": [],
   "source": [
    "# train dataset 준비\n",
    "train['Xvec'] = [np.array(list(user2tag[i][0])+list(job2tag[j][0])) for i,j in zip(train['userID'],train['jobID'])]"
   ]
  },
  {
   "cell_type": "markdown",
   "metadata": {},
   "source": [
    "before_pca = np.array([x.reshape(-1,1) for x in train['Xvec']])"
   ]
  },
  {
   "cell_type": "markdown",
   "metadata": {},
   "source": [
    "A = before_pca\n",
    "A = np.asmatrix(A.T) * np.asmatrix(A)\n",
    "U, S, V = np.linalg.svd(A) \n",
    "eigvals = S**2 / np.sum(S**2)  # NOTE (@amoeba): These are not PCA eigenvalues. \n",
    "                               # This question is about SVD.\n",
    "\n",
    "fig = plt.figure(figsize=(8,5))\n",
    "sing_vals = np.arange(838) + 1\n",
    "plt.plot(sing_vals, eigvals, 'ro-', linewidth=2)\n",
    "plt.title('Scree Plot')\n",
    "plt.xlabel('Principal Component')\n",
    "plt.ylabel('Eigenvalue')\n",
    "#I don't like the default legend so I typically make mine like below, e.g.\n",
    "#with smaller fonts and a bit transparent so I do not cover up data, and make\n",
    "#it moveable by the viewer in case upper-right is a bad place for it \n",
    "leg = plt.legend(['Eigenvalues from SVD'], loc='best', borderpad=0.3, \n",
    "                 shadow=False, prop=matplotlib.font_manager.FontProperties(size='small'),\n",
    "                 markerscale=0.4)\n",
    "leg.get_frame().set_alpha(0.4)\n",
    "leg.draggable(state=True)\n",
    "plt.xlim(0,10)\n",
    "plt.show()"
   ]
  },
  {
   "cell_type": "markdown",
   "metadata": {},
   "source": [
    "# PCA로 3개의 성분으로 줄여보자\n",
    "model_pca = PCA(n_components=3).fit(list(train['Xvec']))"
   ]
  },
  {
   "cell_type": "markdown",
   "metadata": {},
   "source": [
    "train['pca_data'] = list(model_pca.transform(list(train['Xvec'])))"
   ]
  },
  {
   "cell_type": "code",
   "execution_count": 8,
   "metadata": {},
   "outputs": [],
   "source": [
    "#trainset : validset = 5:1\n",
    "train = train.sample(frac = 1, random_state = 1)\n",
    "valid = train[-1000:]\n",
    "train = train[:-1000]"
   ]
  },
  {
   "cell_type": "code",
   "execution_count": 9,
   "metadata": {},
   "outputs": [
    {
     "data": {
      "text/html": [
       "<div>\n",
       "<style scoped>\n",
       "    .dataframe tbody tr th:only-of-type {\n",
       "        vertical-align: middle;\n",
       "    }\n",
       "\n",
       "    .dataframe tbody tr th {\n",
       "        vertical-align: top;\n",
       "    }\n",
       "\n",
       "    .dataframe thead th {\n",
       "        text-align: right;\n",
       "    }\n",
       "</style>\n",
       "<table border=\"1\" class=\"dataframe\">\n",
       "  <thead>\n",
       "    <tr style=\"text-align: right;\">\n",
       "      <th></th>\n",
       "      <th>userID</th>\n",
       "      <th>jobID</th>\n",
       "      <th>applied</th>\n",
       "      <th>Xvec</th>\n",
       "    </tr>\n",
       "  </thead>\n",
       "  <tbody>\n",
       "    <tr>\n",
       "      <th>923</th>\n",
       "      <td>65f2e6f22b24b36f9fcb364dfafeee74</td>\n",
       "      <td>1ce927f875864094e3906a4a0b5ece68</td>\n",
       "      <td>0</td>\n",
       "      <td>[0.0, 0.0, 0.0, 0.0, 0.0, 0.0, 0.0, 0.0, 0.0, ...</td>\n",
       "    </tr>\n",
       "    <tr>\n",
       "      <th>2044</th>\n",
       "      <td>792bb50d101782d726d38be8f81f145b</td>\n",
       "      <td>a0160709701140704575d499c997b6ca</td>\n",
       "      <td>0</td>\n",
       "      <td>[0.0, 0.0, 0.0, 0.0, 0.0, 0.0, 0.0, 0.0, 0.0, ...</td>\n",
       "    </tr>\n",
       "    <tr>\n",
       "      <th>1980</th>\n",
       "      <td>951923a83597e7db3def99b660cf0fa3</td>\n",
       "      <td>4ca82782c5372a547c104929f03fe7a9</td>\n",
       "      <td>0</td>\n",
       "      <td>[0.0, 0.0, 0.0, 0.0, 0.0, 0.0, 0.0, 0.0, 0.0, ...</td>\n",
       "    </tr>\n",
       "    <tr>\n",
       "      <th>249</th>\n",
       "      <td>ce3c9c905135bab43c25500d3435a7a7</td>\n",
       "      <td>310ce61c90f3a46e340ee8257bc70e93</td>\n",
       "      <td>0</td>\n",
       "      <td>[0.0, 0.0, 0.0, 0.0, 0.0, 0.0, 0.0, 0.0, 0.0, ...</td>\n",
       "    </tr>\n",
       "    <tr>\n",
       "      <th>3911</th>\n",
       "      <td>5b34f52c8cfb9f3fa83613822ba0118c</td>\n",
       "      <td>efe937780e95574250dabe07151bdc23</td>\n",
       "      <td>0</td>\n",
       "      <td>[0.0, 0.0, 0.0, 0.0, 0.0, 0.0, 1.0, 0.0, 0.0, ...</td>\n",
       "    </tr>\n",
       "  </tbody>\n",
       "</table>\n",
       "</div>"
      ],
      "text/plain": [
       "                                userID                             jobID  \\\n",
       "923   65f2e6f22b24b36f9fcb364dfafeee74  1ce927f875864094e3906a4a0b5ece68   \n",
       "2044  792bb50d101782d726d38be8f81f145b  a0160709701140704575d499c997b6ca   \n",
       "1980  951923a83597e7db3def99b660cf0fa3  4ca82782c5372a547c104929f03fe7a9   \n",
       "249   ce3c9c905135bab43c25500d3435a7a7  310ce61c90f3a46e340ee8257bc70e93   \n",
       "3911  5b34f52c8cfb9f3fa83613822ba0118c  efe937780e95574250dabe07151bdc23   \n",
       "\n",
       "      applied                                               Xvec  \n",
       "923         0  [0.0, 0.0, 0.0, 0.0, 0.0, 0.0, 0.0, 0.0, 0.0, ...  \n",
       "2044        0  [0.0, 0.0, 0.0, 0.0, 0.0, 0.0, 0.0, 0.0, 0.0, ...  \n",
       "1980        0  [0.0, 0.0, 0.0, 0.0, 0.0, 0.0, 0.0, 0.0, 0.0, ...  \n",
       "249         0  [0.0, 0.0, 0.0, 0.0, 0.0, 0.0, 0.0, 0.0, 0.0, ...  \n",
       "3911        0  [0.0, 0.0, 0.0, 0.0, 0.0, 0.0, 1.0, 0.0, 0.0, ...  "
      ]
     },
     "execution_count": 9,
     "metadata": {},
     "output_type": "execute_result"
    }
   ],
   "source": [
    "valid.head()"
   ]
  },
  {
   "cell_type": "code",
   "execution_count": 9,
   "metadata": {},
   "outputs": [
    {
     "data": {
      "text/plain": [
       "DecisionTreeClassifier(class_weight=None, criterion='gini', max_depth=None,\n",
       "            max_features=None, max_leaf_nodes=None,\n",
       "            min_impurity_decrease=0.0, min_impurity_split=None,\n",
       "            min_samples_leaf=1, min_samples_split=2,\n",
       "            min_weight_fraction_leaf=0.0, presort=False, random_state=None,\n",
       "            splitter='best')"
      ]
     },
     "execution_count": 9,
     "metadata": {},
     "output_type": "execute_result"
    }
   ],
   "source": [
    "DT = tree.DecisionTreeClassifier()\n",
    "DT.fit(list(train['Xvec']),list(train['applied']))"
   ]
  },
  {
   "cell_type": "code",
   "execution_count": 10,
   "metadata": {},
   "outputs": [],
   "source": [
    "Yhat = DT.predict(list(train['Xvec']))"
   ]
  },
  {
   "cell_type": "code",
   "execution_count": 11,
   "metadata": {},
   "outputs": [
    {
     "name": "stdout",
     "output_type": "stream",
     "text": [
      "문제수 = 5000 정답 =  4955 정답률 =  0.991\n"
     ]
    }
   ],
   "source": [
    "cnt = 0\n",
    "for i,j in zip(Yhat, train['applied']):\n",
    "    if i==j:\n",
    "        cnt+=1\n",
    "print('문제수 =', len(train),\n",
    "     '정답 = ', cnt,\n",
    "     '정답률 = ', cnt/len(train))"
   ]
  },
  {
   "cell_type": "code",
   "execution_count": 13,
   "metadata": {},
   "outputs": [
    {
     "data": {
      "text/plain": [
       "1963"
      ]
     },
     "execution_count": 13,
     "metadata": {},
     "output_type": "execute_result"
    }
   ],
   "source": [
    "sum(Yhat)"
   ]
  },
  {
   "cell_type": "code",
   "execution_count": 13,
   "metadata": {},
   "outputs": [
    {
     "name": "stdout",
     "output_type": "stream",
     "text": [
      "문제수 = 1000 정답 =  777 정답률 =  0.777\n"
     ]
    }
   ],
   "source": [
    "predict = DT.predict(list(valid['Xvec']))\n",
    "cnt = 0\n",
    "for i,j in zip(predict, valid['applied']):\n",
    "    if i==j:\n",
    "        cnt+=1\n",
    "print('문제수 =', len(valid),\n",
    "     '정답 = ', cnt,\n",
    "     '정답률 = ', cnt/len(valid))"
   ]
  },
  {
   "cell_type": "code",
   "execution_count": 56,
   "metadata": {},
   "outputs": [],
   "source": [
    "test = pd.read_csv('data/test_job.csv')"
   ]
  },
  {
   "cell_type": "code",
   "execution_count": 57,
   "metadata": {},
   "outputs": [],
   "source": [
    "test['Xvec'] = [np.array(list(user2tag[i][0])+list(job2tag[j][0])) for i,j in zip(test['userID'],test['jobID'])]"
   ]
  },
  {
   "cell_type": "code",
   "execution_count": 59,
   "metadata": {},
   "outputs": [],
   "source": [
    "model_pca = PCA(n_components=3).fit(list(test['Xvec']))"
   ]
  },
  {
   "cell_type": "code",
   "execution_count": 60,
   "metadata": {},
   "outputs": [],
   "source": [
    "test['pca_data'] = list(model_pca.transform(list(test['Xvec'])))"
   ]
  },
  {
   "cell_type": "code",
   "execution_count": 61,
   "metadata": {},
   "outputs": [],
   "source": [
    "predict = SVM.predict(list(test['pca_data']))"
   ]
  },
  {
   "cell_type": "code",
   "execution_count": 62,
   "metadata": {},
   "outputs": [],
   "source": [
    "applied = ['applied']\n",
    "applied.extend(predict)"
   ]
  },
  {
   "cell_type": "code",
   "execution_count": 63,
   "metadata": {},
   "outputs": [
    {
     "data": {
      "text/plain": [
       "2436"
      ]
     },
     "execution_count": 63,
     "metadata": {},
     "output_type": "execute_result"
    }
   ],
   "source": [
    "len(applied)"
   ]
  },
  {
   "cell_type": "code",
   "execution_count": 64,
   "metadata": {},
   "outputs": [],
   "source": [
    "DFpredict = pd.DataFrame(applied)\n",
    "DFpredict.to_csv(r\"C:\\Users\\SunA\\Desktop\\MLjobfair\\result\\output17.csv\",header = False, index = False)"
   ]
  },
  {
   "cell_type": "markdown",
   "metadata": {},
   "source": []
  },
  {
   "cell_type": "code",
   "execution_count": null,
   "metadata": {},
   "outputs": [],
   "source": []
  }
 ],
 "metadata": {
  "kernelspec": {
   "display_name": "Python 3",
   "language": "python",
   "name": "python3"
  },
  "language_info": {
   "codemirror_mode": {
    "name": "ipython",
    "version": 3
   },
   "file_extension": ".py",
   "mimetype": "text/x-python",
   "name": "python",
   "nbconvert_exporter": "python",
   "pygments_lexer": "ipython3",
   "version": "3.7.1"
  }
 },
 "nbformat": 4,
 "nbformat_minor": 2
}
